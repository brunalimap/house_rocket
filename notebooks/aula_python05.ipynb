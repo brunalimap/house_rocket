{
 "cells": [
  {
   "cell_type": "markdown",
   "metadata": {
    "id": "yQUm-t_pVhHi"
   },
   "source": [
    "# 0.0 Importando as bibliotecas"
   ]
  },
  {
   "cell_type": "code",
   "execution_count": 1,
   "metadata": {
    "ExecuteTime": {
     "end_time": "2021-02-11T23:33:12.246243Z",
     "start_time": "2021-02-11T23:33:09.569684Z"
    },
    "executionInfo": {
     "elapsed": 1511,
     "status": "ok",
     "timestamp": 1613059399638,
     "user": {
      "displayName": "Bruna Lima",
      "photoUrl": "https://lh3.googleusercontent.com/a-/AOh14Gg8K5cJFtNe-gY4q7n9TOlMYJT7Uh9KdeFxLviiYQ=s64",
      "userId": "17818359507482234909"
     },
     "user_tz": 180
    },
    "id": "DedTezZgyYob"
   },
   "outputs": [],
   "source": [
    "import pandas         as pd\n",
    "import numpy          as np\n",
    "import seaborn        as sns\n",
    "import plotly.express as px\n",
    "import ipywidgets     as widgets\n",
    "\n",
    "from ipywidgets            import fixed\n",
    "from matplotlib            import gridspec\n",
    "from matplotlib            import pyplot as plt\n",
    "from geopy.geocoders       import Nominatim\n",
    "from IPython.core.display  import HTML\n",
    "from IPython.display       import Image"
   ]
  },
  {
   "cell_type": "markdown",
   "metadata": {
    "id": "1L4T1AVhVt_o"
   },
   "source": [
    "## 0.1 - Funções"
   ]
  },
  {
   "cell_type": "code",
   "execution_count": 2,
   "metadata": {
    "ExecuteTime": {
     "end_time": "2021-02-11T23:33:12.307111Z",
     "start_time": "2021-02-11T23:33:12.249903Z"
    },
    "colab": {
     "base_uri": "https://localhost:8080/",
     "height": 17
    },
    "executionInfo": {
     "elapsed": 1495,
     "status": "ok",
     "timestamp": 1613059399642,
     "user": {
      "displayName": "Bruna Lima",
      "photoUrl": "https://lh3.googleusercontent.com/a-/AOh14Gg8K5cJFtNe-gY4q7n9TOlMYJT7Uh9KdeFxLviiYQ=s64",
      "userId": "17818359507482234909"
     },
     "user_tz": 180
    },
    "id": "ea-E68RVVvTC",
    "outputId": "820d425d-51e0-45c8-cc6f-7b27bb1383c5"
   },
   "outputs": [
    {
     "data": {
      "text/html": [
       "<style>.container {width:100% !important; }</style>"
      ],
      "text/plain": [
       "<IPython.core.display.HTML object>"
      ]
     },
     "metadata": {},
     "output_type": "display_data"
    }
   ],
   "source": [
    "# Criação de Botões\n",
    "def bt_intslider(Val,Min,Max,desc=''):\n",
    "    \n",
    "    bt = widgets.IntSlider(value = Val, \n",
    "                           min = Min,\n",
    "                           max = Max, \n",
    "                           step = 1,\n",
    "                           description=desc,\n",
    "                           disable=False,\n",
    "                           orientation='horizontal',\n",
    "                           style = {'description_width': 'initial'})\n",
    "    return bt    \n",
    "\n",
    "# Criação de Botões\n",
    "def bt_dropdown(data,x='',desc=''):\n",
    "    \n",
    "    bt1 = widgets.Dropdown(\n",
    "    options=data[x].sort_values().unique().tolist(),\n",
    "    description= desc,\n",
    "    disabled=False,\n",
    "    style={'description_width': 'initial'})\n",
    "    \n",
    "    return bt1   \n",
    "\n",
    "\n",
    "\n",
    "# Estatística Descritiva\n",
    "def num_metricas(num_attributes):\n",
    "  #Central tendencian - mean, median\n",
    "\n",
    "  ct1 = pd.DataFrame( num_attributes.apply(np.mean)).T\n",
    "  ct2 = pd.DataFrame(num_attributes.apply(np.median)).T\n",
    "\n",
    "  #Dispersion - std, min, max, range, skew, kurtosis\n",
    "\n",
    "  d1 = pd.DataFrame(num_attributes.apply(np.std)).T\n",
    "  d2 = pd.DataFrame(num_attributes.apply(min)).T\n",
    "  d3 = pd.DataFrame(num_attributes.apply(max)).T\n",
    "  d4 = pd.DataFrame(num_attributes.apply(lambda x: x.max() - x.min() )).T\n",
    "  d5 = pd.DataFrame(num_attributes.apply(lambda x: x.skew() )).T\n",
    "  d6 = pd.DataFrame(num_attributes.apply(lambda x: x.kurtosis() )).T\n",
    "\n",
    "  #Concatenate\n",
    "  metrics = pd.concat([d2, d3, d4, ct1, ct2, d1, d5, d6]).T.reset_index()\n",
    "  metrics.columns = ['attributes','min', 'max', 'range', 'mean', 'median', 'std', 'skew','kurtosis']\n",
    "  return metrics\n",
    "\n",
    "\n",
    "def jupyter_settings():\n",
    "    \n",
    "    %matplotlib inline \n",
    "    #%pylab inline\n",
    "    \n",
    "    plt.style.use('bmh')\n",
    "    plt.rcParams['figure.figsize']=[20,10]\n",
    "    plt.rcParams['font.size']=10\n",
    "    \n",
    "    display( HTML('<style>.container {width:100% !important; }</style>'))\n",
    "    pd.options.display.max_columns = None\n",
    "    pd.options.display.max_rows = None\n",
    "    pd.set_option('display.expand_frame_repr',False )\n",
    "    pd.set_option('display.float_format',lambda x: '%.2f' % x)\n",
    "    \n",
    "\n",
    "    sns.set()\n",
    "    \n",
    "\n",
    "\n",
    "jupyter_settings()"
   ]
  },
  {
   "cell_type": "markdown",
   "metadata": {
    "heading_collapsed": true,
    "id": "wlcyZWRxV1gY"
   },
   "source": [
    "## 0.2 - Carregando os dados"
   ]
  },
  {
   "cell_type": "code",
   "execution_count": 3,
   "metadata": {
    "ExecuteTime": {
     "end_time": "2021-02-11T23:33:12.675789Z",
     "start_time": "2021-02-11T23:33:12.312272Z"
    },
    "colab": {
     "base_uri": "https://localhost:8080/",
     "height": 0
    },
    "executionInfo": {
     "elapsed": 1469,
     "status": "ok",
     "timestamp": 1613059399644,
     "user": {
      "displayName": "Bruna Lima",
      "photoUrl": "https://lh3.googleusercontent.com/a-/AOh14Gg8K5cJFtNe-gY4q7n9TOlMYJT7Uh9KdeFxLviiYQ=s64",
      "userId": "17818359507482234909"
     },
     "user_tz": 180
    },
    "hidden": true,
    "id": "s1P48QsxV3LM",
    "outputId": "00f8a48c-e689-4001-a916-61594b991d6a"
   },
   "outputs": [
    {
     "data": {
      "text/html": [
       "<div>\n",
       "<style scoped>\n",
       "    .dataframe tbody tr th:only-of-type {\n",
       "        vertical-align: middle;\n",
       "    }\n",
       "\n",
       "    .dataframe tbody tr th {\n",
       "        vertical-align: top;\n",
       "    }\n",
       "\n",
       "    .dataframe thead th {\n",
       "        text-align: right;\n",
       "    }\n",
       "</style>\n",
       "<table border=\"1\" class=\"dataframe\">\n",
       "  <thead>\n",
       "    <tr style=\"text-align: right;\">\n",
       "      <th></th>\n",
       "      <th>id</th>\n",
       "      <th>date</th>\n",
       "      <th>price</th>\n",
       "      <th>bedrooms</th>\n",
       "      <th>bathrooms</th>\n",
       "      <th>sqft_living</th>\n",
       "      <th>sqft_lot</th>\n",
       "      <th>floors</th>\n",
       "      <th>waterfront</th>\n",
       "      <th>view</th>\n",
       "      <th>condition</th>\n",
       "      <th>grade</th>\n",
       "      <th>sqft_above</th>\n",
       "      <th>sqft_basement</th>\n",
       "      <th>yr_built</th>\n",
       "      <th>yr_renovated</th>\n",
       "      <th>zipcode</th>\n",
       "      <th>lat</th>\n",
       "      <th>long</th>\n",
       "      <th>sqft_living15</th>\n",
       "      <th>sqft_lot15</th>\n",
       "    </tr>\n",
       "  </thead>\n",
       "  <tbody>\n",
       "    <tr>\n",
       "      <th>7675</th>\n",
       "      <td>3083000355</td>\n",
       "      <td>20141204T000000</td>\n",
       "      <td>385000.00</td>\n",
       "      <td>5</td>\n",
       "      <td>2.00</td>\n",
       "      <td>2020</td>\n",
       "      <td>4000</td>\n",
       "      <td>2.00</td>\n",
       "      <td>0</td>\n",
       "      <td>0</td>\n",
       "      <td>3</td>\n",
       "      <td>7</td>\n",
       "      <td>2020</td>\n",
       "      <td>0</td>\n",
       "      <td>1950</td>\n",
       "      <td>0</td>\n",
       "      <td>98144</td>\n",
       "      <td>47.58</td>\n",
       "      <td>-122.31</td>\n",
       "      <td>1960</td>\n",
       "      <td>4000</td>\n",
       "    </tr>\n",
       "    <tr>\n",
       "      <th>17898</th>\n",
       "      <td>2917200475</td>\n",
       "      <td>20150323T000000</td>\n",
       "      <td>430000.00</td>\n",
       "      <td>2</td>\n",
       "      <td>1.00</td>\n",
       "      <td>760</td>\n",
       "      <td>7114</td>\n",
       "      <td>1.00</td>\n",
       "      <td>0</td>\n",
       "      <td>0</td>\n",
       "      <td>3</td>\n",
       "      <td>6</td>\n",
       "      <td>760</td>\n",
       "      <td>0</td>\n",
       "      <td>1946</td>\n",
       "      <td>0</td>\n",
       "      <td>98103</td>\n",
       "      <td>47.70</td>\n",
       "      <td>-122.35</td>\n",
       "      <td>780</td>\n",
       "      <td>7102</td>\n",
       "    </tr>\n",
       "    <tr>\n",
       "      <th>10725</th>\n",
       "      <td>5422560810</td>\n",
       "      <td>20140714T000000</td>\n",
       "      <td>406500.00</td>\n",
       "      <td>2</td>\n",
       "      <td>1.75</td>\n",
       "      <td>1510</td>\n",
       "      <td>5319</td>\n",
       "      <td>2.00</td>\n",
       "      <td>0</td>\n",
       "      <td>0</td>\n",
       "      <td>4</td>\n",
       "      <td>8</td>\n",
       "      <td>1510</td>\n",
       "      <td>0</td>\n",
       "      <td>1978</td>\n",
       "      <td>0</td>\n",
       "      <td>98052</td>\n",
       "      <td>47.66</td>\n",
       "      <td>-122.13</td>\n",
       "      <td>1740</td>\n",
       "      <td>6160</td>\n",
       "    </tr>\n",
       "    <tr>\n",
       "      <th>19760</th>\n",
       "      <td>8669150700</td>\n",
       "      <td>20141208T000000</td>\n",
       "      <td>292000.00</td>\n",
       "      <td>4</td>\n",
       "      <td>3.00</td>\n",
       "      <td>1984</td>\n",
       "      <td>4460</td>\n",
       "      <td>2.00</td>\n",
       "      <td>0</td>\n",
       "      <td>0</td>\n",
       "      <td>3</td>\n",
       "      <td>7</td>\n",
       "      <td>1984</td>\n",
       "      <td>0</td>\n",
       "      <td>2012</td>\n",
       "      <td>0</td>\n",
       "      <td>98002</td>\n",
       "      <td>47.35</td>\n",
       "      <td>-122.21</td>\n",
       "      <td>2095</td>\n",
       "      <td>3402</td>\n",
       "    </tr>\n",
       "    <tr>\n",
       "      <th>18075</th>\n",
       "      <td>5457800930</td>\n",
       "      <td>20140613T000000</td>\n",
       "      <td>1695000.00</td>\n",
       "      <td>2</td>\n",
       "      <td>2.25</td>\n",
       "      <td>3170</td>\n",
       "      <td>3000</td>\n",
       "      <td>2.00</td>\n",
       "      <td>0</td>\n",
       "      <td>2</td>\n",
       "      <td>5</td>\n",
       "      <td>10</td>\n",
       "      <td>1990</td>\n",
       "      <td>1180</td>\n",
       "      <td>1900</td>\n",
       "      <td>0</td>\n",
       "      <td>98109</td>\n",
       "      <td>47.63</td>\n",
       "      <td>-122.35</td>\n",
       "      <td>2980</td>\n",
       "      <td>5061</td>\n",
       "    </tr>\n",
       "  </tbody>\n",
       "</table>\n",
       "</div>"
      ],
      "text/plain": [
       "               id             date      price  bedrooms  bathrooms  sqft_living  sqft_lot  floors  waterfront  view  condition  grade  sqft_above  sqft_basement  yr_built  yr_renovated  zipcode   lat    long  sqft_living15  sqft_lot15\n",
       "7675   3083000355  20141204T000000  385000.00         5       2.00         2020      4000    2.00           0     0          3      7        2020              0      1950             0    98144 47.58 -122.31           1960        4000\n",
       "17898  2917200475  20150323T000000  430000.00         2       1.00          760      7114    1.00           0     0          3      6         760              0      1946             0    98103 47.70 -122.35            780        7102\n",
       "10725  5422560810  20140714T000000  406500.00         2       1.75         1510      5319    2.00           0     0          4      8        1510              0      1978             0    98052 47.66 -122.13           1740        6160\n",
       "19760  8669150700  20141208T000000  292000.00         4       3.00         1984      4460    2.00           0     0          3      7        1984              0      2012             0    98002 47.35 -122.21           2095        3402\n",
       "18075  5457800930  20140613T000000 1695000.00         2       2.25         3170      3000    2.00           0     2          5     10        1990           1180      1900             0    98109 47.63 -122.35           2980        5061"
      ]
     },
     "execution_count": 3,
     "metadata": {},
     "output_type": "execute_result"
    }
   ],
   "source": [
    "df_raw = pd.read_csv('../data/kc_house_data.csv')\n",
    "df = df_raw.copy()\n",
    "df.sample(5)"
   ]
  },
  {
   "cell_type": "markdown",
   "metadata": {
    "id": "wJoQiBF2WepV"
   },
   "source": [
    "# 1.0 Descrição dos Dados"
   ]
  },
  {
   "cell_type": "markdown",
   "metadata": {
    "heading_collapsed": true,
    "id": "8fhHl4jEcX_0"
   },
   "source": [
    "## 1.1 Renomear as Colunas"
   ]
  },
  {
   "cell_type": "code",
   "execution_count": 4,
   "metadata": {
    "ExecuteTime": {
     "end_time": "2021-02-11T23:33:13.294389Z",
     "start_time": "2021-02-11T23:33:13.288704Z"
    },
    "colab": {
     "base_uri": "https://localhost:8080/"
    },
    "executionInfo": {
     "elapsed": 1457,
     "status": "ok",
     "timestamp": 1613059399647,
     "user": {
      "displayName": "Bruna Lima",
      "photoUrl": "https://lh3.googleusercontent.com/a-/AOh14Gg8K5cJFtNe-gY4q7n9TOlMYJT7Uh9KdeFxLviiYQ=s64",
      "userId": "17818359507482234909"
     },
     "user_tz": 180
    },
    "hidden": true,
    "id": "xqA4R6neWfdg",
    "outputId": "5d2359fe-ecdc-4070-ea15-38b9678baf90"
   },
   "outputs": [
    {
     "data": {
      "text/plain": [
       "Index(['id', 'date', 'price', 'bedrooms', 'bathrooms', 'sqft_living',\n",
       "       'sqft_lot', 'floors', 'waterfront', 'view', 'condition', 'grade',\n",
       "       'sqft_above', 'sqft_basement', 'yr_built', 'yr_renovated', 'zipcode',\n",
       "       'lat', 'long', 'sqft_living15', 'sqft_lot15'],\n",
       "      dtype='object')"
      ]
     },
     "execution_count": 4,
     "metadata": {},
     "output_type": "execute_result"
    }
   ],
   "source": [
    "df.columns"
   ]
  },
  {
   "cell_type": "markdown",
   "metadata": {
    "hidden": true,
    "id": "Nv4XBql0c0xg"
   },
   "source": [
    "Neste caso não vai ser necessário "
   ]
  },
  {
   "cell_type": "markdown",
   "metadata": {
    "heading_collapsed": true,
    "id": "_48HwKzsckfA"
   },
   "source": [
    "## 1.2 Dimensão dos Dados"
   ]
  },
  {
   "cell_type": "code",
   "execution_count": 5,
   "metadata": {
    "ExecuteTime": {
     "end_time": "2021-02-11T23:33:14.463131Z",
     "start_time": "2021-02-11T23:33:14.457129Z"
    },
    "colab": {
     "base_uri": "https://localhost:8080/"
    },
    "executionInfo": {
     "elapsed": 1449,
     "status": "ok",
     "timestamp": 1613059399649,
     "user": {
      "displayName": "Bruna Lima",
      "photoUrl": "https://lh3.googleusercontent.com/a-/AOh14Gg8K5cJFtNe-gY4q7n9TOlMYJT7Uh9KdeFxLviiYQ=s64",
      "userId": "17818359507482234909"
     },
     "user_tz": 180
    },
    "hidden": true,
    "id": "r0lVRt6VWmGf",
    "outputId": "c35be790-d26d-4afe-9b5b-c501609dce9f"
   },
   "outputs": [
    {
     "name": "stdout",
     "output_type": "stream",
     "text": [
      "Número de linhas: 21613\n",
      "Número de colunas: 21\n"
     ]
    }
   ],
   "source": [
    "print('Número de linhas: {}'.format(df.shape[0]))\n",
    "print('Número de colunas: {}'.format(df.shape[1]))"
   ]
  },
  {
   "cell_type": "markdown",
   "metadata": {
    "id": "L4zz2J9zco04"
   },
   "source": [
    "## 1.3 Tipos dos Dados"
   ]
  },
  {
   "cell_type": "code",
   "execution_count": 6,
   "metadata": {
    "ExecuteTime": {
     "end_time": "2021-02-11T23:33:15.191763Z",
     "start_time": "2021-02-11T23:33:15.180678Z"
    },
    "colab": {
     "base_uri": "https://localhost:8080/"
    },
    "executionInfo": {
     "elapsed": 1665,
     "status": "ok",
     "timestamp": 1613059399872,
     "user": {
      "displayName": "Bruna Lima",
      "photoUrl": "https://lh3.googleusercontent.com/a-/AOh14Gg8K5cJFtNe-gY4q7n9TOlMYJT7Uh9KdeFxLviiYQ=s64",
      "userId": "17818359507482234909"
     },
     "user_tz": 180
    },
    "id": "dunSrYgwWthb",
    "outputId": "52c8383b-c1c5-47ca-f42a-414e56d17c9e"
   },
   "outputs": [
    {
     "data": {
      "text/plain": [
       "id                 int64\n",
       "date              object\n",
       "price            float64\n",
       "bedrooms           int64\n",
       "bathrooms        float64\n",
       "sqft_living        int64\n",
       "sqft_lot           int64\n",
       "floors           float64\n",
       "waterfront         int64\n",
       "view               int64\n",
       "condition          int64\n",
       "grade              int64\n",
       "sqft_above         int64\n",
       "sqft_basement      int64\n",
       "yr_built           int64\n",
       "yr_renovated       int64\n",
       "zipcode            int64\n",
       "lat              float64\n",
       "long             float64\n",
       "sqft_living15      int64\n",
       "sqft_lot15         int64\n",
       "dtype: object"
      ]
     },
     "execution_count": 6,
     "metadata": {},
     "output_type": "execute_result"
    }
   ],
   "source": [
    "df.dtypes"
   ]
  },
  {
   "cell_type": "markdown",
   "metadata": {
    "id": "6Pb5aAFri2_I"
   },
   "source": [
    "### 1.3.1 Mudança do tipo da variável"
   ]
  },
  {
   "cell_type": "markdown",
   "metadata": {
    "id": "9MsEGF4LjQBD"
   },
   "source": [
    "Primeiramente vamos colocar a variável \"date\" que está como object para o tipo datetime."
   ]
  },
  {
   "cell_type": "code",
   "execution_count": 29,
   "metadata": {
    "ExecuteTime": {
     "end_time": "2021-02-11T23:48:52.557101Z",
     "start_time": "2021-02-11T23:48:51.564987Z"
    }
   },
   "outputs": [],
   "source": [
    "# mudando o formato da data\n",
    "df['year'] = pd.to_datetime(df['date']).dt.strftime('%Y')\n",
    "df['date'] = pd.to_datetime(df['date']).dt.strftime('%Y-%m-%d')\n",
    "df['year_week'] = pd.to_datetime(df['date']).dt.strftime('%Y-%U')"
   ]
  },
  {
   "cell_type": "markdown",
   "metadata": {
    "heading_collapsed": true,
    "id": "RGVOUq_ygL70"
   },
   "source": [
    "## 1.4 Valores nulos no Dataset"
   ]
  },
  {
   "cell_type": "code",
   "execution_count": 8,
   "metadata": {
    "ExecuteTime": {
     "end_time": "2021-02-11T23:33:16.389418Z",
     "start_time": "2021-02-11T23:33:16.371520Z"
    },
    "colab": {
     "base_uri": "https://localhost:8080/"
    },
    "executionInfo": {
     "elapsed": 1660,
     "status": "ok",
     "timestamp": 1613059399880,
     "user": {
      "displayName": "Bruna Lima",
      "photoUrl": "https://lh3.googleusercontent.com/a-/AOh14Gg8K5cJFtNe-gY4q7n9TOlMYJT7Uh9KdeFxLviiYQ=s64",
      "userId": "17818359507482234909"
     },
     "user_tz": 180
    },
    "hidden": true,
    "id": "axSf0FJUgSO9",
    "outputId": "05eda3ca-5bda-40e2-88b9-531f048356f6"
   },
   "outputs": [
    {
     "data": {
      "text/plain": [
       "id               0\n",
       "date             0\n",
       "price            0\n",
       "bedrooms         0\n",
       "bathrooms        0\n",
       "sqft_living      0\n",
       "sqft_lot         0\n",
       "floors           0\n",
       "waterfront       0\n",
       "view             0\n",
       "condition        0\n",
       "grade            0\n",
       "sqft_above       0\n",
       "sqft_basement    0\n",
       "yr_built         0\n",
       "yr_renovated     0\n",
       "zipcode          0\n",
       "lat              0\n",
       "long             0\n",
       "sqft_living15    0\n",
       "sqft_lot15       0\n",
       "dtype: int64"
      ]
     },
     "execution_count": 8,
     "metadata": {},
     "output_type": "execute_result"
    }
   ],
   "source": [
    "df.isnull().sum()"
   ]
  },
  {
   "cell_type": "markdown",
   "metadata": {
    "hidden": true,
    "id": "wTwLiLfBjFey"
   },
   "source": [
    "Pode - se perceber que o dataset não tem valores nulos."
   ]
  },
  {
   "cell_type": "markdown",
   "metadata": {
    "heading_collapsed": true,
    "id": "C9zQphS2gdFr"
   },
   "source": [
    "## 1.5 Estatística Descritiva"
   ]
  },
  {
   "cell_type": "code",
   "execution_count": 9,
   "metadata": {
    "ExecuteTime": {
     "end_time": "2021-02-11T23:33:17.964480Z",
     "start_time": "2021-02-11T23:33:17.953678Z"
    },
    "executionInfo": {
     "elapsed": 1655,
     "status": "ok",
     "timestamp": 1613059399882,
     "user": {
      "displayName": "Bruna Lima",
      "photoUrl": "https://lh3.googleusercontent.com/a-/AOh14Gg8K5cJFtNe-gY4q7n9TOlMYJT7Uh9KdeFxLviiYQ=s64",
      "userId": "17818359507482234909"
     },
     "user_tz": 180
    },
    "hidden": true,
    "id": "MInnP3n0gye2"
   },
   "outputs": [],
   "source": [
    "# Separando as variáveis em categórica e numérica\n",
    "num_atributos = df.select_dtypes(include = ['int64', 'float64'])\n",
    "cat_atributos= df.select_dtypes(include = ['object'])"
   ]
  },
  {
   "cell_type": "markdown",
   "metadata": {
    "heading_collapsed": true,
    "hidden": true,
    "id": "nNiY0ngehpBr"
   },
   "source": [
    "### 1.5.1 Atributos Numéricos"
   ]
  },
  {
   "cell_type": "code",
   "execution_count": 10,
   "metadata": {
    "ExecuteTime": {
     "end_time": "2021-02-11T23:33:18.765958Z",
     "start_time": "2021-02-11T23:33:18.552679Z"
    },
    "colab": {
     "base_uri": "https://localhost:8080/",
     "height": 0
    },
    "executionInfo": {
     "elapsed": 1648,
     "status": "ok",
     "timestamp": 1613059399885,
     "user": {
      "displayName": "Bruna Lima",
      "photoUrl": "https://lh3.googleusercontent.com/a-/AOh14Gg8K5cJFtNe-gY4q7n9TOlMYJT7Uh9KdeFxLviiYQ=s64",
      "userId": "17818359507482234909"
     },
     "user_tz": 180
    },
    "hidden": true,
    "id": "ngehCw_5hGNk",
    "outputId": "dbe638ad-e632-490d-fe4f-5464f2755cf9"
   },
   "outputs": [
    {
     "data": {
      "text/html": [
       "<div>\n",
       "<style scoped>\n",
       "    .dataframe tbody tr th:only-of-type {\n",
       "        vertical-align: middle;\n",
       "    }\n",
       "\n",
       "    .dataframe tbody tr th {\n",
       "        vertical-align: top;\n",
       "    }\n",
       "\n",
       "    .dataframe thead th {\n",
       "        text-align: right;\n",
       "    }\n",
       "</style>\n",
       "<table border=\"1\" class=\"dataframe\">\n",
       "  <thead>\n",
       "    <tr style=\"text-align: right;\">\n",
       "      <th></th>\n",
       "      <th>attributes</th>\n",
       "      <th>min</th>\n",
       "      <th>max</th>\n",
       "      <th>range</th>\n",
       "      <th>mean</th>\n",
       "      <th>median</th>\n",
       "      <th>std</th>\n",
       "      <th>skew</th>\n",
       "      <th>kurtosis</th>\n",
       "    </tr>\n",
       "  </thead>\n",
       "  <tbody>\n",
       "    <tr>\n",
       "      <th>0</th>\n",
       "      <td>id</td>\n",
       "      <td>1000102.00</td>\n",
       "      <td>9900000190.00</td>\n",
       "      <td>9899000088.00</td>\n",
       "      <td>4580301520.86</td>\n",
       "      <td>3904930410.00</td>\n",
       "      <td>2876499023.43</td>\n",
       "      <td>0.24</td>\n",
       "      <td>-1.26</td>\n",
       "    </tr>\n",
       "    <tr>\n",
       "      <th>1</th>\n",
       "      <td>price</td>\n",
       "      <td>75000.00</td>\n",
       "      <td>7700000.00</td>\n",
       "      <td>7625000.00</td>\n",
       "      <td>540088.14</td>\n",
       "      <td>450000.00</td>\n",
       "      <td>367118.70</td>\n",
       "      <td>4.02</td>\n",
       "      <td>34.59</td>\n",
       "    </tr>\n",
       "    <tr>\n",
       "      <th>2</th>\n",
       "      <td>bedrooms</td>\n",
       "      <td>0.00</td>\n",
       "      <td>33.00</td>\n",
       "      <td>33.00</td>\n",
       "      <td>3.37</td>\n",
       "      <td>3.00</td>\n",
       "      <td>0.93</td>\n",
       "      <td>1.97</td>\n",
       "      <td>49.06</td>\n",
       "    </tr>\n",
       "    <tr>\n",
       "      <th>3</th>\n",
       "      <td>bathrooms</td>\n",
       "      <td>0.00</td>\n",
       "      <td>8.00</td>\n",
       "      <td>8.00</td>\n",
       "      <td>2.11</td>\n",
       "      <td>2.25</td>\n",
       "      <td>0.77</td>\n",
       "      <td>0.51</td>\n",
       "      <td>1.28</td>\n",
       "    </tr>\n",
       "    <tr>\n",
       "      <th>4</th>\n",
       "      <td>sqft_living</td>\n",
       "      <td>290.00</td>\n",
       "      <td>13540.00</td>\n",
       "      <td>13250.00</td>\n",
       "      <td>2079.90</td>\n",
       "      <td>1910.00</td>\n",
       "      <td>918.42</td>\n",
       "      <td>1.47</td>\n",
       "      <td>5.24</td>\n",
       "    </tr>\n",
       "    <tr>\n",
       "      <th>5</th>\n",
       "      <td>sqft_lot</td>\n",
       "      <td>520.00</td>\n",
       "      <td>1651359.00</td>\n",
       "      <td>1650839.00</td>\n",
       "      <td>15106.97</td>\n",
       "      <td>7618.00</td>\n",
       "      <td>41419.55</td>\n",
       "      <td>13.06</td>\n",
       "      <td>285.08</td>\n",
       "    </tr>\n",
       "    <tr>\n",
       "      <th>6</th>\n",
       "      <td>floors</td>\n",
       "      <td>1.00</td>\n",
       "      <td>3.50</td>\n",
       "      <td>2.50</td>\n",
       "      <td>1.49</td>\n",
       "      <td>1.50</td>\n",
       "      <td>0.54</td>\n",
       "      <td>0.62</td>\n",
       "      <td>-0.48</td>\n",
       "    </tr>\n",
       "    <tr>\n",
       "      <th>7</th>\n",
       "      <td>waterfront</td>\n",
       "      <td>0.00</td>\n",
       "      <td>1.00</td>\n",
       "      <td>1.00</td>\n",
       "      <td>0.01</td>\n",
       "      <td>0.00</td>\n",
       "      <td>0.09</td>\n",
       "      <td>11.39</td>\n",
       "      <td>127.63</td>\n",
       "    </tr>\n",
       "    <tr>\n",
       "      <th>8</th>\n",
       "      <td>view</td>\n",
       "      <td>0.00</td>\n",
       "      <td>4.00</td>\n",
       "      <td>4.00</td>\n",
       "      <td>0.23</td>\n",
       "      <td>0.00</td>\n",
       "      <td>0.77</td>\n",
       "      <td>3.40</td>\n",
       "      <td>10.89</td>\n",
       "    </tr>\n",
       "    <tr>\n",
       "      <th>9</th>\n",
       "      <td>condition</td>\n",
       "      <td>1.00</td>\n",
       "      <td>5.00</td>\n",
       "      <td>4.00</td>\n",
       "      <td>3.41</td>\n",
       "      <td>3.00</td>\n",
       "      <td>0.65</td>\n",
       "      <td>1.03</td>\n",
       "      <td>0.53</td>\n",
       "    </tr>\n",
       "    <tr>\n",
       "      <th>10</th>\n",
       "      <td>grade</td>\n",
       "      <td>1.00</td>\n",
       "      <td>13.00</td>\n",
       "      <td>12.00</td>\n",
       "      <td>7.66</td>\n",
       "      <td>7.00</td>\n",
       "      <td>1.18</td>\n",
       "      <td>0.77</td>\n",
       "      <td>1.19</td>\n",
       "    </tr>\n",
       "    <tr>\n",
       "      <th>11</th>\n",
       "      <td>sqft_above</td>\n",
       "      <td>290.00</td>\n",
       "      <td>9410.00</td>\n",
       "      <td>9120.00</td>\n",
       "      <td>1788.39</td>\n",
       "      <td>1560.00</td>\n",
       "      <td>828.07</td>\n",
       "      <td>1.45</td>\n",
       "      <td>3.40</td>\n",
       "    </tr>\n",
       "    <tr>\n",
       "      <th>12</th>\n",
       "      <td>sqft_basement</td>\n",
       "      <td>0.00</td>\n",
       "      <td>4820.00</td>\n",
       "      <td>4820.00</td>\n",
       "      <td>291.51</td>\n",
       "      <td>0.00</td>\n",
       "      <td>442.56</td>\n",
       "      <td>1.58</td>\n",
       "      <td>2.72</td>\n",
       "    </tr>\n",
       "    <tr>\n",
       "      <th>13</th>\n",
       "      <td>yr_built</td>\n",
       "      <td>1900.00</td>\n",
       "      <td>2015.00</td>\n",
       "      <td>115.00</td>\n",
       "      <td>1971.01</td>\n",
       "      <td>1975.00</td>\n",
       "      <td>29.37</td>\n",
       "      <td>-0.47</td>\n",
       "      <td>-0.66</td>\n",
       "    </tr>\n",
       "    <tr>\n",
       "      <th>14</th>\n",
       "      <td>yr_renovated</td>\n",
       "      <td>0.00</td>\n",
       "      <td>2015.00</td>\n",
       "      <td>2015.00</td>\n",
       "      <td>84.40</td>\n",
       "      <td>0.00</td>\n",
       "      <td>401.67</td>\n",
       "      <td>4.55</td>\n",
       "      <td>18.70</td>\n",
       "    </tr>\n",
       "    <tr>\n",
       "      <th>15</th>\n",
       "      <td>zipcode</td>\n",
       "      <td>98001.00</td>\n",
       "      <td>98199.00</td>\n",
       "      <td>198.00</td>\n",
       "      <td>98077.94</td>\n",
       "      <td>98065.00</td>\n",
       "      <td>53.50</td>\n",
       "      <td>0.41</td>\n",
       "      <td>-0.85</td>\n",
       "    </tr>\n",
       "    <tr>\n",
       "      <th>16</th>\n",
       "      <td>lat</td>\n",
       "      <td>47.16</td>\n",
       "      <td>47.78</td>\n",
       "      <td>0.62</td>\n",
       "      <td>47.56</td>\n",
       "      <td>47.57</td>\n",
       "      <td>0.14</td>\n",
       "      <td>-0.49</td>\n",
       "      <td>-0.68</td>\n",
       "    </tr>\n",
       "    <tr>\n",
       "      <th>17</th>\n",
       "      <td>long</td>\n",
       "      <td>-122.52</td>\n",
       "      <td>-121.31</td>\n",
       "      <td>1.20</td>\n",
       "      <td>-122.21</td>\n",
       "      <td>-122.23</td>\n",
       "      <td>0.14</td>\n",
       "      <td>0.89</td>\n",
       "      <td>1.05</td>\n",
       "    </tr>\n",
       "    <tr>\n",
       "      <th>18</th>\n",
       "      <td>sqft_living15</td>\n",
       "      <td>399.00</td>\n",
       "      <td>6210.00</td>\n",
       "      <td>5811.00</td>\n",
       "      <td>1986.55</td>\n",
       "      <td>1840.00</td>\n",
       "      <td>685.38</td>\n",
       "      <td>1.11</td>\n",
       "      <td>1.60</td>\n",
       "    </tr>\n",
       "    <tr>\n",
       "      <th>19</th>\n",
       "      <td>sqft_lot15</td>\n",
       "      <td>651.00</td>\n",
       "      <td>871200.00</td>\n",
       "      <td>870549.00</td>\n",
       "      <td>12768.46</td>\n",
       "      <td>7620.00</td>\n",
       "      <td>27303.55</td>\n",
       "      <td>9.51</td>\n",
       "      <td>150.76</td>\n",
       "    </tr>\n",
       "  </tbody>\n",
       "</table>\n",
       "</div>"
      ],
      "text/plain": [
       "       attributes        min           max         range          mean        median           std  skew  kurtosis\n",
       "0              id 1000102.00 9900000190.00 9899000088.00 4580301520.86 3904930410.00 2876499023.43  0.24     -1.26\n",
       "1           price   75000.00    7700000.00    7625000.00     540088.14     450000.00     367118.70  4.02     34.59\n",
       "2        bedrooms       0.00         33.00         33.00          3.37          3.00          0.93  1.97     49.06\n",
       "3       bathrooms       0.00          8.00          8.00          2.11          2.25          0.77  0.51      1.28\n",
       "4     sqft_living     290.00      13540.00      13250.00       2079.90       1910.00        918.42  1.47      5.24\n",
       "5        sqft_lot     520.00    1651359.00    1650839.00      15106.97       7618.00      41419.55 13.06    285.08\n",
       "6          floors       1.00          3.50          2.50          1.49          1.50          0.54  0.62     -0.48\n",
       "7      waterfront       0.00          1.00          1.00          0.01          0.00          0.09 11.39    127.63\n",
       "8            view       0.00          4.00          4.00          0.23          0.00          0.77  3.40     10.89\n",
       "9       condition       1.00          5.00          4.00          3.41          3.00          0.65  1.03      0.53\n",
       "10          grade       1.00         13.00         12.00          7.66          7.00          1.18  0.77      1.19\n",
       "11     sqft_above     290.00       9410.00       9120.00       1788.39       1560.00        828.07  1.45      3.40\n",
       "12  sqft_basement       0.00       4820.00       4820.00        291.51          0.00        442.56  1.58      2.72\n",
       "13       yr_built    1900.00       2015.00        115.00       1971.01       1975.00         29.37 -0.47     -0.66\n",
       "14   yr_renovated       0.00       2015.00       2015.00         84.40          0.00        401.67  4.55     18.70\n",
       "15        zipcode   98001.00      98199.00        198.00      98077.94      98065.00         53.50  0.41     -0.85\n",
       "16            lat      47.16         47.78          0.62         47.56         47.57          0.14 -0.49     -0.68\n",
       "17           long    -122.52       -121.31          1.20       -122.21       -122.23          0.14  0.89      1.05\n",
       "18  sqft_living15     399.00       6210.00       5811.00       1986.55       1840.00        685.38  1.11      1.60\n",
       "19     sqft_lot15     651.00     871200.00     870549.00      12768.46       7620.00      27303.55  9.51    150.76"
      ]
     },
     "execution_count": 10,
     "metadata": {},
     "output_type": "execute_result"
    }
   ],
   "source": [
    "num_metricas(num_atributos)"
   ]
  },
  {
   "cell_type": "markdown",
   "metadata": {
    "heading_collapsed": true,
    "hidden": true,
    "id": "ygTrwohXhxG-"
   },
   "source": [
    "### 1.5.2 Atributos Categóricos "
   ]
  },
  {
   "cell_type": "code",
   "execution_count": 11,
   "metadata": {
    "ExecuteTime": {
     "end_time": "2021-02-11T23:33:19.205648Z",
     "start_time": "2021-02-11T23:33:19.199833Z"
    },
    "colab": {
     "base_uri": "https://localhost:8080/"
    },
    "executionInfo": {
     "elapsed": 1980,
     "status": "ok",
     "timestamp": 1613059400226,
     "user": {
      "displayName": "Bruna Lima",
      "photoUrl": "https://lh3.googleusercontent.com/a-/AOh14Gg8K5cJFtNe-gY4q7n9TOlMYJT7Uh9KdeFxLviiYQ=s64",
      "userId": "17818359507482234909"
     },
     "user_tz": 180
    },
    "hidden": true,
    "id": "50qysK8oh4WP",
    "outputId": "4a5d5956-71f3-46ca-ef29-af0a4f15437f"
   },
   "outputs": [
    {
     "data": {
      "text/plain": [
       "Index([], dtype='object')"
      ]
     },
     "execution_count": 11,
     "metadata": {},
     "output_type": "execute_result"
    }
   ],
   "source": [
    "cat_atributos.columns"
   ]
  },
  {
   "cell_type": "markdown",
   "metadata": {
    "hidden": true,
    "id": "EfxWyoQOjn3R"
   },
   "source": [
    "Dataset não apresenta variáveis categóricas\n",
    "\n"
   ]
  },
  {
   "cell_type": "markdown",
   "metadata": {
    "heading_collapsed": true
   },
   "source": [
    "## 1.6 Criação de Variáveis"
   ]
  },
  {
   "cell_type": "markdown",
   "metadata": {
    "heading_collapsed": true,
    "hidden": true
   },
   "source": [
    "### 1.6.1 Condition house"
   ]
  },
  {
   "cell_type": "code",
   "execution_count": 16,
   "metadata": {
    "ExecuteTime": {
     "end_time": "2021-02-11T23:35:05.061720Z",
     "start_time": "2021-02-11T23:35:05.043909Z"
    },
    "hidden": true
   },
   "outputs": [],
   "source": [
    "#Condition house\n",
    "df.loc[df['condition'] <= 2,'condition_type'] = 'bad'\n",
    "df.loc[df['condition'] == 3,'condition_type'] = 'regular'\n",
    "df.loc[df['condition'] == 4,'condition_type'] = 'regular'\n",
    "df.loc[df['condition'] == 5,'condition_type'] = 'good'"
   ]
  },
  {
   "cell_type": "markdown",
   "metadata": {
    "heading_collapsed": true,
    "hidden": true
   },
   "source": [
    "### 1.6.2 Level"
   ]
  },
  {
   "cell_type": "markdown",
   "metadata": {
    "hidden": true,
    "id": "dV4jUIdN0m_X"
   },
   "source": [
    "- Nível 0 -> Preço entre 0 e 321.950\n",
    "- Nível 1 -> Preço entre 321.950 e 450.000\n",
    "- Nível 2 -> Preço entre 450.000 e 645.000\n",
    "- Nível 3 -> Acima de 645.000"
   ]
  },
  {
   "cell_type": "code",
   "execution_count": 12,
   "metadata": {
    "ExecuteTime": {
     "end_time": "2021-02-11T23:33:21.159970Z",
     "start_time": "2021-02-11T23:33:21.133242Z"
    },
    "executionInfo": {
     "elapsed": 1975,
     "status": "ok",
     "timestamp": 1613059400229,
     "user": {
      "displayName": "Bruna Lima",
      "photoUrl": "https://lh3.googleusercontent.com/a-/AOh14Gg8K5cJFtNe-gY4q7n9TOlMYJT7Uh9KdeFxLviiYQ=s64",
      "userId": "17818359507482234909"
     },
     "user_tz": 180
    },
    "hidden": true,
    "id": "CFqFQ0sDksFg"
   },
   "outputs": [],
   "source": [
    "df['level']= 'NA'\n",
    "df['level']= df['price'].apply(lambda x: 0  if x < 321950 else \n",
    "                                              1  if (x >= 321950) & (x < 450000) else \n",
    "                                              2  if (x >= 450000) & (x < 645000) else 3)  \n",
    "df['level'] = df['level'].astype(int)\n"
   ]
  },
  {
   "cell_type": "markdown",
   "metadata": {
    "heading_collapsed": true,
    "hidden": true
   },
   "source": [
    "### 1.6.3 Size"
   ]
  },
  {
   "cell_type": "markdown",
   "metadata": {
    "hidden": true,
    "id": "ZbKNbgl70tqv"
   },
   "source": [
    "- Size 0 -> Tamanho entre 0 e 1427 sqft\n",
    "- Size 1 -> Tamanho entre 1427 e 1910 sqft\n",
    "- Size 2 -> Tamanho entre 1910 e 2550 sqft\n",
    "- Size 3 -> Tamanho acima de 2550 sqft"
   ]
  },
  {
   "cell_type": "code",
   "execution_count": 14,
   "metadata": {
    "ExecuteTime": {
     "end_time": "2021-02-11T23:33:23.644954Z",
     "start_time": "2021-02-11T23:33:23.622628Z"
    },
    "executionInfo": {
     "elapsed": 1961,
     "status": "ok",
     "timestamp": 1613059400233,
     "user": {
      "displayName": "Bruna Lima",
      "photoUrl": "https://lh3.googleusercontent.com/a-/AOh14Gg8K5cJFtNe-gY4q7n9TOlMYJT7Uh9KdeFxLviiYQ=s64",
      "userId": "17818359507482234909"
     },
     "user_tz": 180
    },
    "hidden": true,
    "id": "oerdQFPH01g-"
   },
   "outputs": [],
   "source": [
    "df['size']= 'NA'\n",
    "df['size']= df['sqft_living'].apply(lambda x: 0  if x < 1427 else \n",
    "                                              1  if (x >= 1427) & (x < 1910) else \n",
    "                                              2  if (x >= 1910) & (x < 2550) else 3)  \n",
    "df['size'] = df['size'].astype(int)"
   ]
  },
  {
   "cell_type": "markdown",
   "metadata": {
    "heading_collapsed": true,
    "hidden": true
   },
   "source": [
    "### 1.6.4 Waterfront"
   ]
  },
  {
   "cell_type": "code",
   "execution_count": 27,
   "metadata": {
    "ExecuteTime": {
     "end_time": "2021-02-11T23:42:10.271635Z",
     "start_time": "2021-02-11T23:42:10.261113Z"
    },
    "hidden": true
   },
   "outputs": [],
   "source": [
    "df['is_waterfront'] = df['waterfront'].apply( lambda x: 'yes' if x == 1 else 'no' )"
   ]
  },
  {
   "cell_type": "markdown",
   "metadata": {
    "heading_collapsed": true,
    "id": "yLRqTcgkkiCx"
   },
   "source": [
    "# 2.0 - Qual a média do preço de compra dos imóveis por \"Nível\"?\n"
   ]
  },
  {
   "cell_type": "code",
   "execution_count": 13,
   "metadata": {
    "ExecuteTime": {
     "end_time": "2021-02-11T23:33:21.764542Z",
     "start_time": "2021-02-11T23:33:21.736371Z"
    },
    "colab": {
     "base_uri": "https://localhost:8080/",
     "height": 173
    },
    "executionInfo": {
     "elapsed": 1968,
     "status": "ok",
     "timestamp": 1613059400231,
     "user": {
      "displayName": "Bruna Lima",
      "photoUrl": "https://lh3.googleusercontent.com/a-/AOh14Gg8K5cJFtNe-gY4q7n9TOlMYJT7Uh9KdeFxLviiYQ=s64",
      "userId": "17818359507482234909"
     },
     "user_tz": 180
    },
    "hidden": true,
    "id": "kVTDLSQ-s3V1",
    "outputId": "d881967a-41e0-4dad-f09e-35a903a091a7"
   },
   "outputs": [
    {
     "data": {
      "text/html": [
       "<div>\n",
       "<style scoped>\n",
       "    .dataframe tbody tr th:only-of-type {\n",
       "        vertical-align: middle;\n",
       "    }\n",
       "\n",
       "    .dataframe tbody tr th {\n",
       "        vertical-align: top;\n",
       "    }\n",
       "\n",
       "    .dataframe thead th {\n",
       "        text-align: right;\n",
       "    }\n",
       "</style>\n",
       "<table border=\"1\" class=\"dataframe\">\n",
       "  <thead>\n",
       "    <tr style=\"text-align: right;\">\n",
       "      <th></th>\n",
       "      <th>Level</th>\n",
       "      <th>Mean</th>\n",
       "    </tr>\n",
       "  </thead>\n",
       "  <tbody>\n",
       "    <tr>\n",
       "      <th>0</th>\n",
       "      <td>0</td>\n",
       "      <td>0.25</td>\n",
       "    </tr>\n",
       "    <tr>\n",
       "      <th>1</th>\n",
       "      <td>1</td>\n",
       "      <td>0.24</td>\n",
       "    </tr>\n",
       "    <tr>\n",
       "      <th>2</th>\n",
       "      <td>2</td>\n",
       "      <td>0.25</td>\n",
       "    </tr>\n",
       "    <tr>\n",
       "      <th>3</th>\n",
       "      <td>3</td>\n",
       "      <td>0.25</td>\n",
       "    </tr>\n",
       "  </tbody>\n",
       "</table>\n",
       "</div>"
      ],
      "text/plain": [
       "   Level  Mean\n",
       "0      0  0.25\n",
       "1      1  0.24\n",
       "2      2  0.25\n",
       "3      3  0.25"
      ]
     },
     "execution_count": 13,
     "metadata": {},
     "output_type": "execute_result"
    }
   ],
   "source": [
    "aux = [] \n",
    "for i in range(4): \n",
    "    m = (df['level'] == i).sum()/(df.shape[0])\n",
    "    aux.append(m)\n",
    "    media_level= pd.DataFrame(aux).reset_index()\n",
    "    media_level.columns = ['Level','Mean']\n",
    "\n",
    "media_level\n",
    "    \n"
   ]
  },
  {
   "cell_type": "markdown",
   "metadata": {
    "heading_collapsed": true,
    "id": "PEdi86-y0d7h"
   },
   "source": [
    "# 3.0 - Qual a média do tamanho da sala de estar dos imóveis por \"Size\"?\n"
   ]
  },
  {
   "cell_type": "code",
   "execution_count": 15,
   "metadata": {
    "ExecuteTime": {
     "end_time": "2021-02-11T23:33:24.207959Z",
     "start_time": "2021-02-11T23:33:24.175611Z"
    },
    "colab": {
     "base_uri": "https://localhost:8080/",
     "height": 173
    },
    "executionInfo": {
     "elapsed": 585,
     "status": "ok",
     "timestamp": 1613059627446,
     "user": {
      "displayName": "Bruna Lima",
      "photoUrl": "https://lh3.googleusercontent.com/a-/AOh14Gg8K5cJFtNe-gY4q7n9TOlMYJT7Uh9KdeFxLviiYQ=s64",
      "userId": "17818359507482234909"
     },
     "user_tz": 180
    },
    "hidden": true,
    "id": "LwGYoLZO08A-",
    "outputId": "a2ad472d-d4d4-4b8c-bb35-b9c96e98a74b"
   },
   "outputs": [
    {
     "data": {
      "text/html": [
       "<div>\n",
       "<style scoped>\n",
       "    .dataframe tbody tr th:only-of-type {\n",
       "        vertical-align: middle;\n",
       "    }\n",
       "\n",
       "    .dataframe tbody tr th {\n",
       "        vertical-align: top;\n",
       "    }\n",
       "\n",
       "    .dataframe thead th {\n",
       "        text-align: right;\n",
       "    }\n",
       "</style>\n",
       "<table border=\"1\" class=\"dataframe\">\n",
       "  <thead>\n",
       "    <tr style=\"text-align: right;\">\n",
       "      <th></th>\n",
       "      <th>Size</th>\n",
       "      <th>Mean</th>\n",
       "    </tr>\n",
       "  </thead>\n",
       "  <tbody>\n",
       "    <tr>\n",
       "      <th>0</th>\n",
       "      <td>0</td>\n",
       "      <td>0.25</td>\n",
       "    </tr>\n",
       "    <tr>\n",
       "      <th>1</th>\n",
       "      <td>1</td>\n",
       "      <td>0.25</td>\n",
       "    </tr>\n",
       "    <tr>\n",
       "      <th>2</th>\n",
       "      <td>2</td>\n",
       "      <td>0.25</td>\n",
       "    </tr>\n",
       "    <tr>\n",
       "      <th>3</th>\n",
       "      <td>3</td>\n",
       "      <td>0.25</td>\n",
       "    </tr>\n",
       "  </tbody>\n",
       "</table>\n",
       "</div>"
      ],
      "text/plain": [
       "   Size  Mean\n",
       "0     0  0.25\n",
       "1     1  0.25\n",
       "2     2  0.25\n",
       "3     3  0.25"
      ]
     },
     "execution_count": 15,
     "metadata": {},
     "output_type": "execute_result"
    }
   ],
   "source": [
    "aux01 = [] \n",
    "for i in range(4): \n",
    "    m = (df['size'] == i).sum()/(df.shape[0])\n",
    "    aux01.append(m)\n",
    "    media_size= pd.DataFrame(aux01).reset_index()\n",
    "    media_size.columns = ['Size','Mean']\n",
    "\n",
    "media_size"
   ]
  },
  {
   "cell_type": "markdown",
   "metadata": {
    "heading_collapsed": true,
    "id": "z6fc-aBz2c8M"
   },
   "source": [
    "# 4.0 - Adicione as seguintes informações ao conjunto de dados original:\n"
   ]
  },
  {
   "cell_type": "markdown",
   "metadata": {
    "hidden": true,
    "id": "nzjcl1TH2g-o"
   },
   "source": [
    "- PlaceID: identificação da localização.\n",
    "- OSM Type: Open Street Map Type\n",
    "- Country: Nome do País\n",
    "- Country Code: Código do país"
   ]
  },
  {
   "cell_type": "code",
   "execution_count": null,
   "metadata": {
    "ExecuteTime": {
     "end_time": "2021-02-11T22:27:17.252263Z",
     "start_time": "2021-02-11T22:27:15.425Z"
    },
    "executionInfo": {
     "elapsed": 554,
     "status": "ok",
     "timestamp": 1613059766190,
     "user": {
      "displayName": "Bruna Lima",
      "photoUrl": "https://lh3.googleusercontent.com/a-/AOh14Gg8K5cJFtNe-gY4q7n9TOlMYJT7Uh9KdeFxLviiYQ=s64",
      "userId": "17818359507482234909"
     },
     "user_tz": 180
    },
    "hidden": true,
    "id": "--OvV5Ah2oDh"
   },
   "outputs": [],
   "source": [
    "df4 = df.copy()"
   ]
  },
  {
   "cell_type": "code",
   "execution_count": null,
   "metadata": {
    "ExecuteTime": {
     "end_time": "2021-02-11T22:27:17.253613Z",
     "start_time": "2021-02-11T22:27:15.435Z"
    },
    "hidden": true,
    "id": "2kgaEcg62j7k"
   },
   "outputs": [],
   "source": [
    "# Create empty rows\n",
    "df1['country'] = 'NA'\n",
    "df1['state'] = 'NA'\n",
    "df1['city'] = 'NA'\n",
    "df1['neighbourhood'] = 'NA'\n",
    "df1['road'] = 'NA'\n",
    "df1['house_number'] = 'NA'\n",
    "\n",
    "# Initialize Nominatim API\n",
    "geolocator = Nominatim(user_agent='geoapiExercises')\n",
    "\n",
    "for i in range(len(df1)):\n",
    "    \n",
    "    print('Loop:{} / {}'.format(i,len(df1)))\n",
    "    \n",
    "    query = str(df1.loc[i,'lat']) + ','+ str(df1.loc[i,'long'])\n",
    "    \n",
    "    #API request\n",
    "    response = geolocator.reverse(query)\n",
    "lista = ['country','state','city','neighbourhood','road','house_number']\n",
    "    # Populate data\n",
    "    if 'country' in response.raw['address']:\n",
    "        df1.loc[i,'country'] = response.raw['address']['country']\n",
    "           \n",
    "    if 'state' in response.raw['address']:\n",
    "        df1.loc[i,'state'] = response.raw['address']['state']\n",
    "    \n",
    "    if 'city' in response.raw['address']:\n",
    "        df1.loc[i,'city'] = response.raw['address']['city']\n",
    "    \n",
    "    if 'neighbourhood' in response.raw['address']:\n",
    "        df1.loc[i,'neighbourhood'] = response.raw['address']['neighbourhood']\n",
    "    \n",
    "    if 'road' in response.raw['address']:\n",
    "        df1.loc[i,'road'] = response.raw['address']['road']\n",
    "    \n",
    "    if 'house_number' in response.raw['address']:\n",
    "        df1.loc[i,'house_number'] = response.raw['address']['house_number']"
   ]
  },
  {
   "cell_type": "code",
   "execution_count": null,
   "metadata": {
    "ExecuteTime": {
     "end_time": "2021-02-11T22:27:17.255668Z",
     "start_time": "2021-02-11T22:27:15.442Z"
    },
    "colab": {
     "base_uri": "https://localhost:8080/",
     "height": 1000
    },
    "executionInfo": {
     "elapsed": 360688,
     "status": "error",
     "timestamp": 1613060546402,
     "user": {
      "displayName": "Bruna Lima",
      "photoUrl": "https://lh3.googleusercontent.com/a-/AOh14Gg8K5cJFtNe-gY4q7n9TOlMYJT7Uh9KdeFxLviiYQ=s64",
      "userId": "17818359507482234909"
     },
     "user_tz": 180
    },
    "hidden": true,
    "id": "CcABfqUs3NP_",
    "outputId": "709425f0-9d4c-409b-f2c5-ee3865d91275"
   },
   "outputs": [],
   "source": [
    "lista = ['country','state','city','neighbourhood','road','house_number']\n",
    "\n",
    "# Cria linhas vazias\n",
    "df4['country'] = 'NA'\n",
    "df4['state'] = 'NA'\n",
    "df4['city'] = 'NA'\n",
    "df4['neighbourhood'] = 'NA'\n",
    "df4['road'] = 'NA'\n",
    "df4['house_number'] = 'NA'\n",
    "\n",
    "# Inicializar API\n",
    "geolocator = Nominatim(user_agent='geoapiExercises')\n",
    "\n",
    "for i in range(len(df4)):\n",
    "    \n",
    "    print('Loop:{} / {}'.format(i,len(df4)))\n",
    "    \n",
    "    query = str(df4.loc[i,'lat']) + ','+ str(df4.loc[i,'long'])\n",
    "    \n",
    "    # Requisição na API \n",
    "    response = geolocator.reverse(query)\n",
    "    \n",
    "    # Verificar se tem as informações no json\n",
    "    for j in lista:\n",
    "      \n",
    "      if 'j' in response.raw['address']:\n",
    "        df4.loc[i,'j'] = response.raw['address']['country']"
   ]
  },
  {
   "cell_type": "markdown",
   "metadata": {
    "heading_collapsed": true,
    "id": "IXALkQZx4Vh1"
   },
   "source": [
    "# 5.0 - Adicione os seguintes filtros no mapa:\n"
   ]
  },
  {
   "cell_type": "markdown",
   "metadata": {
    "hidden": true,
    "id": "oCZgvpnw4lui"
   },
   "source": [
    "- Tamanho mínimo da área da sala estar.\n",
    "- Número mínimo de banheiros.\n",
    "- Valor máximo do Preço.\n",
    "- Tamanho máximo da área do porão.\n",
    "- Filtro das condições do imóvel.\n",
    "- Filtro por ano de construção."
   ]
  },
  {
   "cell_type": "code",
   "execution_count": 24,
   "metadata": {
    "ExecuteTime": {
     "end_time": "2021-02-11T23:37:40.070094Z",
     "start_time": "2021-02-11T23:37:39.993201Z"
    },
    "hidden": true,
    "id": "McIMwBxY4p1t"
   },
   "outputs": [],
   "source": [
    "#Botões interativos\n",
    "\n",
    "year_built = bt_intslider(1900,1900,2015, desc='Ano de Construção')\n",
    "area_basement = bt_intslider(0,0,4820, desc='Área do Porão')\n",
    "room_size = bt_intslider(290,290,13540, desc='Sala de Estar')\n",
    "limit_price = bt_intslider(540000,75000,77000000, desc='Preço Máximo')\n",
    "\n",
    "bathroom_qtd = bt_dropdown(df,x='bathrooms',desc='Banheiros')\n",
    "type_house = bt_dropdown(df,x='condition_type',desc='Condição do imóvel')\n",
    "\n"
   ]
  },
  {
   "cell_type": "code",
   "execution_count": 25,
   "metadata": {
    "ExecuteTime": {
     "end_time": "2021-02-11T23:37:42.149181Z",
     "start_time": "2021-02-11T23:37:40.629756Z"
    },
    "hidden": true
   },
   "outputs": [
    {
     "data": {
      "application/vnd.jupyter.widget-view+json": {
       "model_id": "cf16240d3ae845fc91b0de49803a8c62",
       "version_major": 2,
       "version_minor": 0
      },
      "text/plain": [
       "interactive(children=(Dropdown(description='Banheiros', options=(0.0, 0.5, 0.75, 1.0, 1.25, 1.5, 1.75, 2.0, 2.…"
      ]
     },
     "metadata": {},
     "output_type": "display_data"
    }
   ],
   "source": [
    "def update_map( df,bathroom, condition, year, room, limit, basement):\n",
    "    \n",
    "    #Definindo as colunas para o mapa\n",
    "    houses = df[(df['sqft_living'] >= room) &\n",
    "                (df['bathrooms'] >= bathroom) &\n",
    "                (df['price'] <= limit) & \n",
    "                (df['sqft_basement'] >= basement) & \n",
    "                (df['condition_type'] >= condition) & \n",
    "                (df['yr_built'] >= year)][['sqft_living','bathrooms','sqft_basement','condition','yr_built','id','price','lat','long','level']]\n",
    "\n",
    "    #Criando mapa\n",
    "    maps_price = px.scatter_mapbox(data_frame= houses,\n",
    "                lat='lat',\n",
    "                lon='long',\n",
    "                hover_name='id',\n",
    "                color='level',                  \n",
    "                size='price',                  \n",
    "                color_discrete_sequence=['darkblue'],\n",
    "                color_continuous_scale=px.colors.sequential.Viridis,\n",
    "                size_max=30,                  \n",
    "                zoom=8,\n",
    "                mapbox_style='open-street-map',\n",
    "                height=1000) \n",
    "\n",
    "    #Definindo as margens do mapa\n",
    "    maps_price.update_layout(margin={'r':0, 't':0, 'l':0, 'b':0})\n",
    "    maps_price.show()\n",
    "\n",
    "widgets.interactive( update_map, df=fixed(df), bathroom=bathroom_qtd,condition=type_house, year=year_built, room=room_size, limit=limit_price, basement=area_basement)"
   ]
  },
  {
   "cell_type": "markdown",
   "metadata": {},
   "source": [
    "# 6.0 - Adicione os seguintes filtros no Dashboard:\n",
    "- Filtro por data disponível para compra.\n",
    "- Filtro por ano de renovação.\n",
    "- Filtro se possui vista para a água ou não"
   ]
  },
  {
   "cell_type": "code",
   "execution_count": null,
   "metadata": {
    "executionInfo": {
     "elapsed": 1953,
     "status": "ok",
     "timestamp": 1613059400237,
     "user": {
      "displayName": "Bruna Lima",
      "photoUrl": "https://lh3.googleusercontent.com/a-/AOh14Gg8K5cJFtNe-gY4q7n9TOlMYJT7Uh9KdeFxLviiYQ=s64",
      "userId": "17818359507482234909"
     },
     "user_tz": 180
    },
    "id": "lX11d9wxgG0S"
   },
   "outputs": [],
   "source": [
    "# criando o botão para filtrar os dados"
   ]
  },
  {
   "cell_type": "code",
   "execution_count": null,
   "metadata": {},
   "outputs": [],
   "source": []
  }
 ],
 "metadata": {
  "colab": {
   "authorship_tag": "ABX9TyNxMqmp30fV6yjk84tZVdYF",
   "collapsed_sections": [
    "wlcyZWRxV1gY",
    "8fhHl4jEcX_0",
    "_48HwKzsckfA",
    "L4zz2J9zco04",
    "6Pb5aAFri2_I",
    "RGVOUq_ygL70",
    "nNiY0ngehpBr",
    "ixSWOump0xr_"
   ],
   "name": "House_Rocket.ipynb",
   "provenance": []
  },
  "kernelspec": {
   "display_name": "Python 3",
   "language": "python",
   "name": "python3"
  },
  "language_info": {
   "codemirror_mode": {
    "name": "ipython",
    "version": 3
   },
   "file_extension": ".py",
   "mimetype": "text/x-python",
   "name": "python",
   "nbconvert_exporter": "python",
   "pygments_lexer": "ipython3",
   "version": "3.8.0"
  }
 },
 "nbformat": 4,
 "nbformat_minor": 1
}
